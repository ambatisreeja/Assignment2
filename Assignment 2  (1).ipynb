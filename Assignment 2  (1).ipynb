{
 "cells": [
  {
   "cell_type": "markdown",
   "metadata": {},
   "source": [
    "### Perspective API Exploration\n",
    "\n",
    "First, we have a dataset of Wikipedia comments made available by Jigsaw, a subsidiary of Google that created the Perspective tool. The dataset includes a unique comment id, the text of the comment, and a series of binary labels applied by human raters: \"toxic,\" \"severe_toxic,\" \"obscene,\" \"threat,\" \"insult,\" and \"identity_hate.\" I have appended the \"score\" column, which represents the toxicity score assigned to the comment text by the live version of the Perspective API. The data is available under a CC0 license."
   ]
  },
  {
   "cell_type": "code",
   "execution_count": 1,
   "metadata": {},
   "outputs": [],
   "source": [
    "import pandas as pd\n",
    "import time\n",
    "\n",
    "df = pd.read_csv('labeled_and_scored_comments.csv')"
   ]
  },
  {
   "cell_type": "code",
   "execution_count": 2,
   "metadata": {},
   "outputs": [
    {
     "data": {
      "text/html": [
       "<div>\n",
       "<style scoped>\n",
       "    .dataframe tbody tr th:only-of-type {\n",
       "        vertical-align: middle;\n",
       "    }\n",
       "\n",
       "    .dataframe tbody tr th {\n",
       "        vertical-align: top;\n",
       "    }\n",
       "\n",
       "    .dataframe thead th {\n",
       "        text-align: right;\n",
       "    }\n",
       "</style>\n",
       "<table border=\"1\" class=\"dataframe\">\n",
       "  <thead>\n",
       "    <tr style=\"text-align: right;\">\n",
       "      <th></th>\n",
       "      <th>id</th>\n",
       "      <th>comment_text</th>\n",
       "      <th>score</th>\n",
       "      <th>toxic</th>\n",
       "      <th>severe_toxic</th>\n",
       "      <th>obscene</th>\n",
       "      <th>threat</th>\n",
       "      <th>insult</th>\n",
       "      <th>identity_hate</th>\n",
       "    </tr>\n",
       "  </thead>\n",
       "  <tbody>\n",
       "    <tr>\n",
       "      <th>1158</th>\n",
       "      <td>61a85266de70cca0</td>\n",
       "      <td>Можешь говорить по русски.</td>\n",
       "      <td>0.000004</td>\n",
       "      <td>0</td>\n",
       "      <td>0</td>\n",
       "      <td>0</td>\n",
       "      <td>0</td>\n",
       "      <td>0</td>\n",
       "      <td>0</td>\n",
       "    </tr>\n",
       "    <tr>\n",
       "      <th>5246</th>\n",
       "      <td>030a9ba0b32b4456</td>\n",
       "      <td>Rodzina Krusenstern Potomkowie Admirała Adama ...</td>\n",
       "      <td>0.000009</td>\n",
       "      <td>0</td>\n",
       "      <td>0</td>\n",
       "      <td>0</td>\n",
       "      <td>0</td>\n",
       "      <td>0</td>\n",
       "      <td>0</td>\n",
       "    </tr>\n",
       "    <tr>\n",
       "      <th>11040</th>\n",
       "      <td>a6814193ac6b4705</td>\n",
       "      <td>The opening paragraph states that the game is ...</td>\n",
       "      <td>0.000091</td>\n",
       "      <td>0</td>\n",
       "      <td>0</td>\n",
       "      <td>0</td>\n",
       "      <td>0</td>\n",
       "      <td>0</td>\n",
       "      <td>0</td>\n",
       "    </tr>\n",
       "    <tr>\n",
       "      <th>24192</th>\n",
       "      <td>f0d6dee96e057a5b</td>\n",
       "      <td>The book is used as a source in a number of ar...</td>\n",
       "      <td>0.000116</td>\n",
       "      <td>0</td>\n",
       "      <td>0</td>\n",
       "      <td>0</td>\n",
       "      <td>0</td>\n",
       "      <td>0</td>\n",
       "      <td>0</td>\n",
       "    </tr>\n",
       "    <tr>\n",
       "      <th>2332</th>\n",
       "      <td>cbb9268d3c7429c1</td>\n",
       "      <td>Vals Vienés \\n |Rumba \\n |Cha Cha Chá(ciclo 7)</td>\n",
       "      <td>0.000131</td>\n",
       "      <td>0</td>\n",
       "      <td>0</td>\n",
       "      <td>0</td>\n",
       "      <td>0</td>\n",
       "      <td>0</td>\n",
       "      <td>0</td>\n",
       "    </tr>\n",
       "    <tr>\n",
       "      <th>...</th>\n",
       "      <td>...</td>\n",
       "      <td>...</td>\n",
       "      <td>...</td>\n",
       "      <td>...</td>\n",
       "      <td>...</td>\n",
       "      <td>...</td>\n",
       "      <td>...</td>\n",
       "      <td>...</td>\n",
       "      <td>...</td>\n",
       "    </tr>\n",
       "    <tr>\n",
       "      <th>19994</th>\n",
       "      <td>1429a2c930688317</td>\n",
       "      <td>you fucking piece of shit</td>\n",
       "      <td>0.997278</td>\n",
       "      <td>1</td>\n",
       "      <td>1</td>\n",
       "      <td>1</td>\n",
       "      <td>0</td>\n",
       "      <td>1</td>\n",
       "      <td>0</td>\n",
       "    </tr>\n",
       "    <tr>\n",
       "      <th>28728</th>\n",
       "      <td>d82e45eb103ad07b</td>\n",
       "      <td>fuck off you stupid aspy asshole</td>\n",
       "      <td>0.997736</td>\n",
       "      <td>1</td>\n",
       "      <td>1</td>\n",
       "      <td>1</td>\n",
       "      <td>0</td>\n",
       "      <td>1</td>\n",
       "      <td>0</td>\n",
       "    </tr>\n",
       "    <tr>\n",
       "      <th>25535</th>\n",
       "      <td>e9b92c6c6b01aeef</td>\n",
       "      <td>FUCK YOU YOU PIECE OF SHIT \\n FUCK YOU YOU PIE...</td>\n",
       "      <td>0.997982</td>\n",
       "      <td>1</td>\n",
       "      <td>1</td>\n",
       "      <td>1</td>\n",
       "      <td>0</td>\n",
       "      <td>1</td>\n",
       "      <td>0</td>\n",
       "    </tr>\n",
       "    <tr>\n",
       "      <th>25945</th>\n",
       "      <td>e783fd267f3a9d3b</td>\n",
       "      <td>FUCK WIKIPEDIA ON WHEELS! \\n\\nFuck off wikiped...</td>\n",
       "      <td>0.998136</td>\n",
       "      <td>1</td>\n",
       "      <td>1</td>\n",
       "      <td>1</td>\n",
       "      <td>0</td>\n",
       "      <td>1</td>\n",
       "      <td>0</td>\n",
       "    </tr>\n",
       "    <tr>\n",
       "      <th>17833</th>\n",
       "      <td>364b6c24210e2345</td>\n",
       "      <td>Fuck you you fucking pig!\\n\\nYou motherfucking...</td>\n",
       "      <td>0.998329</td>\n",
       "      <td>1</td>\n",
       "      <td>0</td>\n",
       "      <td>1</td>\n",
       "      <td>0</td>\n",
       "      <td>1</td>\n",
       "      <td>0</td>\n",
       "    </tr>\n",
       "  </tbody>\n",
       "</table>\n",
       "<p>41338 rows × 9 columns</p>\n",
       "</div>"
      ],
      "text/plain": [
       "                     id                                       comment_text  \\\n",
       "1158   61a85266de70cca0                         Можешь говорить по русски.   \n",
       "5246   030a9ba0b32b4456  Rodzina Krusenstern Potomkowie Admirała Adama ...   \n",
       "11040  a6814193ac6b4705  The opening paragraph states that the game is ...   \n",
       "24192  f0d6dee96e057a5b  The book is used as a source in a number of ar...   \n",
       "2332   cbb9268d3c7429c1     Vals Vienés \\n |Rumba \\n |Cha Cha Chá(ciclo 7)   \n",
       "...                 ...                                                ...   \n",
       "19994  1429a2c930688317                          you fucking piece of shit   \n",
       "28728  d82e45eb103ad07b                   fuck off you stupid aspy asshole   \n",
       "25535  e9b92c6c6b01aeef  FUCK YOU YOU PIECE OF SHIT \\n FUCK YOU YOU PIE...   \n",
       "25945  e783fd267f3a9d3b  FUCK WIKIPEDIA ON WHEELS! \\n\\nFuck off wikiped...   \n",
       "17833  364b6c24210e2345  Fuck you you fucking pig!\\n\\nYou motherfucking...   \n",
       "\n",
       "          score  toxic  severe_toxic  obscene  threat  insult  identity_hate  \n",
       "1158   0.000004      0             0        0       0       0              0  \n",
       "5246   0.000009      0             0        0       0       0              0  \n",
       "11040  0.000091      0             0        0       0       0              0  \n",
       "24192  0.000116      0             0        0       0       0              0  \n",
       "2332   0.000131      0             0        0       0       0              0  \n",
       "...         ...    ...           ...      ...     ...     ...            ...  \n",
       "19994  0.997278      1             1        1       0       1              0  \n",
       "28728  0.997736      1             1        1       0       1              0  \n",
       "25535  0.997982      1             1        1       0       1              0  \n",
       "25945  0.998136      1             1        1       0       1              0  \n",
       "17833  0.998329      1             0        1       0       1              0  \n",
       "\n",
       "[41338 rows x 9 columns]"
      ]
     },
     "execution_count": 2,
     "metadata": {},
     "output_type": "execute_result"
    }
   ],
   "source": [
    "df.sort_values(['score'])"
   ]
  },
  {
   "cell_type": "markdown",
   "metadata": {},
   "source": [
    "Data Exploration:\n",
    "The threshold that I am using to determine what comments are toxic is .45 or 45%. This is a little under the half way mark which indicates the comment is pretty much neutral. Anything greater than the neutral half way threshold should be considered \"toxic\". The labels I will be looking at to determine if comments are toxic are the \"toxic\" and \"severe toxic\" since that is what I will be testing the score for. "
   ]
  },
  {
   "cell_type": "code",
   "execution_count": 7,
   "metadata": {},
   "outputs": [],
   "source": [
    "from googleapiclient.discovery import build\n",
    "import json\n",
    "\n",
    "def get_toxicity_score(comment):\n",
    "    \n",
    "  API_KEY = 'xxxxxxxxxxxxxxx' # Put your API key here\n",
    "    \n",
    "  client = build(\n",
    "  \"commentanalyzer\",\n",
    "  \"v1alpha1\",\n",
    "  developerKey=API_KEY,\n",
    "  discoveryServiceUrl=\"https://commentanalyzer.googleapis.com/$discovery/rest?version=v1alpha1\"\n",
    "  )\n",
    "\n",
    "  analyze_request = {\n",
    "  'comment': { 'text': comment },\n",
    "  'requestedAttributes': {'TOXICITY': {}}\n",
    "  }\n",
    "    \n",
    "  response = client.comments().analyze(body=analyze_request).execute()\n",
    "  toxicity_score = response[\"attributeScores\"][\"TOXICITY\"][\"summaryScore\"][\"value\"]\n",
    "    \n",
    "  return toxicity_score"
   ]
  },
  {
   "cell_type": "markdown",
   "metadata": {},
   "source": [
    "Hypothesis:\n",
    "The API tends to mark homosexual terms as more toxic than they actually are intended to be. "
   ]
  },
  {
   "cell_type": "code",
   "execution_count": 21,
   "metadata": {},
   "outputs": [
    {
     "data": {
      "text/plain": [
       "0.61826205"
      ]
     },
     "execution_count": 21,
     "metadata": {},
     "output_type": "execute_result"
    }
   ],
   "source": [
    "get_toxicity_score(\"gay\")"
   ]
  },
  {
   "cell_type": "code",
   "execution_count": 22,
   "metadata": {},
   "outputs": [
    {
     "data": {
      "text/plain": [
       "0.502098"
      ]
     },
     "execution_count": 22,
     "metadata": {},
     "output_type": "execute_result"
    }
   ],
   "source": [
    "get_toxicity_score(\"lesbian\")"
   ]
  },
  {
   "cell_type": "code",
   "execution_count": 23,
   "metadata": {},
   "outputs": [
    {
     "data": {
      "text/plain": [
       "0.26817688"
      ]
     },
     "execution_count": 23,
     "metadata": {},
     "output_type": "execute_result"
    }
   ],
   "source": [
    "get_toxicity_score(\"queer\")"
   ]
  },
  {
   "cell_type": "code",
   "execution_count": 24,
   "metadata": {},
   "outputs": [
    {
     "data": {
      "text/plain": [
       "0.53430706"
      ]
     },
     "execution_count": 24,
     "metadata": {},
     "output_type": "execute_result"
    }
   ],
   "source": [
    "get_toxicity_score(\"homo\")"
   ]
  },
  {
   "cell_type": "code",
   "execution_count": 25,
   "metadata": {},
   "outputs": [
    {
     "data": {
      "text/plain": [
       "0.49981686"
      ]
     },
     "execution_count": 25,
     "metadata": {},
     "output_type": "execute_result"
    }
   ],
   "source": [
    "get_toxicity_score(\"homosexual\")"
   ]
  },
  {
   "cell_type": "code",
   "execution_count": 27,
   "metadata": {},
   "outputs": [
    {
     "data": {
      "text/plain": [
       "0.3282253"
      ]
     },
     "execution_count": 27,
     "metadata": {},
     "output_type": "execute_result"
    }
   ],
   "source": [
    "get_toxicity_score(\"bisexual\")"
   ]
  },
  {
   "cell_type": "code",
   "execution_count": 28,
   "metadata": {},
   "outputs": [],
   "source": [
    "comment_list = ['gay', 'queer', 'homo']\n",
    "score_list = []\n",
    "\n",
    "for comment in comment_list:\n",
    "    score = get_toxicity_score(comment)\n",
    "    score_list.append(score)\n",
    "    time.sleep(1)"
   ]
  },
  {
   "cell_type": "code",
   "execution_count": 29,
   "metadata": {},
   "outputs": [
    {
     "data": {
      "text/plain": [
       "1.42074599"
      ]
     },
     "execution_count": 29,
     "metadata": {},
     "output_type": "execute_result"
    }
   ],
   "source": [
    "sum(score_list)"
   ]
  },
  {
   "cell_type": "markdown",
   "metadata": {},
   "source": [
    "Analyze Data & Results:\n",
    "\n",
    "I predicted that there would be biases in the system of how homosexual terms would be percieved by the API. This is due to the inherent stigma around homosexuality in society and how it is still not considered to be fully \"normal\". Though homosexuality is being more accepted amongst a lot of people, the API does not seem to follow the trends of society. Neutral terms such as gay, homo, and lesbian could be considered toxic by the API when used in normal ways such as queer awareness and education. These terms could also be used in a negative way but overall homosexual terms should not be considered toxic. \n",
    "\n",
    "The toxicity scores of homosexual comments tend to be more false positive. There are many cases where the words gay, homo, lesbian etc., are used in a non-toxic way but they all still tend to get toxicity scores of around .5 or above .5 which is in my opinion highly skewed. Most of these scores are above .45 which is considered as toxic. Overall I disagree with how the API perceives how toxic homosexual terms are. \n",
    "\n",
    "My theory about these results are the API is not up to date with how society views homosexuality today. There is still a lot of work done to fully accept homosexuality, but in general it is not something that should be deemed as toxic as the API regeisters these terms to be. The API is definitely biased against homosexual terms and marks these normal terms to be more toxic than they actually are. My hypothesis is proven true through this data analysis. \n",
    " "
   ]
  }
 ],
 "metadata": {
  "kernelspec": {
   "display_name": "Python 3 (ipykernel)",
   "language": "python",
   "name": "python3"
  },
  "language_info": {
   "codemirror_mode": {
    "name": "ipython",
    "version": 3
   },
   "file_extension": ".py",
   "mimetype": "text/x-python",
   "name": "python",
   "nbconvert_exporter": "python",
   "pygments_lexer": "ipython3",
   "version": "3.9.12"
  }
 },
 "nbformat": 4,
 "nbformat_minor": 2
}
